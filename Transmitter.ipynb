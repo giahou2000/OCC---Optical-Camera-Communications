{
  "nbformat": 4,
  "nbformat_minor": 0,
  "metadata": {
    "colab": {
      "provenance": []
    },
    "kernelspec": {
      "name": "python3",
      "display_name": "Python 3"
    },
    "language_info": {
      "name": "python"
    }
  },
  "cells": [
    {
      "cell_type": "markdown",
      "source": [
        "# **Optical camera communications Transmitter**\n",
        "\n",
        "> Python script for the transmitter of an optical camera comuunication system.\n",
        "\n",
        "> The objective is to modulate a message, in order to send it using on-off keying.\n",
        "\n",
        "> The python script will produce a message, modulate it and send it by switching on and off an LED.\n",
        "\n",
        "> The python script will be executed on a Raspberry pi zero 2W."
      ],
      "metadata": {
        "id": "xCMg7NPpqKCH"
      }
    },
    {
      "cell_type": "markdown",
      "source": [
        "# **Necessary imports**"
      ],
      "metadata": {
        "id": "0ZHai7frq5GG"
      }
    },
    {
      "cell_type": "code",
      "execution_count": null,
      "metadata": {
        "id": "0a6wDrv1p8qc"
      },
      "outputs": [],
      "source": [
        "from time import sleep\n",
        "import numpy as np\n",
        "import gpiozero"
      ]
    },
    {
      "cell_type": "markdown",
      "source": [
        "# **Create the message**"
      ],
      "metadata": {
        "id": "5zf_4nLst1gj"
      }
    },
    {
      "cell_type": "code",
      "source": [
        "# create the message and convert it (if needed) to 0 and 1\n",
        "message = np.zeros(40)\n",
        "for i in range(message.size):\n",
        "  if (i % 2) == 0:\n",
        "    message[i] = 1\n",
        "print(message)"
      ],
      "metadata": {
        "colab": {
          "base_uri": "https://localhost:8080/"
        },
        "id": "qtORQFFaqHFE",
        "outputId": "33aaf33f-9262-4227-dd97-05f1fee0e853"
      },
      "execution_count": null,
      "outputs": [
        {
          "output_type": "stream",
          "name": "stdout",
          "text": [
            "[1. 0. 1. 0. 1. 0. 1. 0. 1. 0. 1. 0. 1. 0. 1. 0. 1. 0. 1. 0. 1. 0. 1. 0.\n",
            " 1. 0. 1. 0. 1. 0. 1. 0. 1. 0. 1. 0. 1. 0. 1. 0.]\n"
          ]
        }
      ]
    },
    {
      "cell_type": "markdown",
      "source": [
        "# **Declare an LED connection**"
      ],
      "metadata": {
        "id": "QH_kFRG0t9JT"
      }
    },
    {
      "cell_type": "code",
      "source": [
        "# declare the connection (you have to connect the led to a GPconnection)\n",
        "led = LED(17)"
      ],
      "metadata": {
        "id": "B6_tasiSqHA4"
      },
      "execution_count": null,
      "outputs": []
    },
    {
      "cell_type": "markdown",
      "source": [
        "# **Send the message**"
      ],
      "metadata": {
        "id": "AboJsGV9uGch"
      }
    },
    {
      "cell_type": "code",
      "source": [
        "space_time = 1\n",
        "# send the message\n",
        "led.on() #beginning signal\n",
        "sleep(5)\n",
        "for i in range(message.size):\n",
        "  if message[i] == 1:\n",
        "    led.on()\n",
        "  else:\n",
        "    led.off()\n",
        "  sleep(space_time)"
      ],
      "metadata": {
        "id": "5jrncooGuNND"
      },
      "execution_count": null,
      "outputs": []
    }
  ]
}