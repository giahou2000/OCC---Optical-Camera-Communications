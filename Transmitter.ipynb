{
  "cells": [
    {
      "cell_type": "markdown",
      "metadata": {
        "id": "xCMg7NPpqKCH"
      },
      "source": [
        "# **Optical camera communications Transmitter**\n",
        "\n",
        "> Python script for the transmitter of an optical camera comuunication system.\n",
        "\n",
        "> The objective is to modulate a message, in order to send it using on-off keying.\n",
        "\n",
        "> The python script will produce a message, modulate it and send it by switching on and off an LED.\n",
        "\n",
        "> The python script will be executed on a Raspberry pi zero 2W."
      ]
    },
    {
      "cell_type": "markdown",
      "metadata": {
        "id": "0ZHai7frq5GG"
      },
      "source": [
        "# **Necessary imports**"
      ]
    },
    {
      "cell_type": "code",
      "execution_count": null,
      "metadata": {
        "id": "0a6wDrv1p8qc"
      },
      "outputs": [],
      "source": [
        "from time import sleep\n",
        "import numpy as np\n",
        "import gpiozero"
      ]
    },
    {
      "cell_type": "markdown",
      "metadata": {
        "id": "5zf_4nLst1gj"
      },
      "source": [
        "# **Create the message**"
      ]
    },
    {
      "cell_type": "code",
      "execution_count": null,
      "metadata": {
        "colab": {
          "base_uri": "https://localhost:8080/"
        },
        "id": "qtORQFFaqHFE",
        "outputId": "33aaf33f-9262-4227-dd97-05f1fee0e853"
      },
      "outputs": [
        {
          "name": "stdout",
          "output_type": "stream",
          "text": [
            "[1. 0. 1. 0. 1. 0. 1. 0. 1. 0. 1. 0. 1. 0. 1. 0. 1. 0. 1. 0. 1. 0. 1. 0.\n",
            " 1. 0. 1. 0. 1. 0. 1. 0. 1. 0. 1. 0. 1. 0. 1. 0.]\n"
          ]
        }
      ],
      "source": [
        "# create the message and convert it (if needed) to 0 and 1\n",
        "message = np.zeros(40)\n",
        "for i in range(message.size):\n",
        "  if (i % 2) == 0:\n",
        "    message[i] = 1\n",
        "print(message)\n",
        "\n",
        "# create a binary list from a file"
      ]
    },
    {
      "cell_type": "markdown",
      "metadata": {
        "id": "QH_kFRG0t9JT"
      },
      "source": [
        "# **Declare an LED connection**"
      ]
    },
    {
      "cell_type": "code",
      "execution_count": null,
      "metadata": {
        "id": "B6_tasiSqHA4"
      },
      "outputs": [],
      "source": [
        "# declare the connection (you have to connect the led to a GPconnection)\n",
        "led = LED(17)"
      ]
    },
    {
      "cell_type": "markdown",
      "metadata": {
        "id": "AboJsGV9uGch"
      },
      "source": [
        "# **Send the message**"
      ]
    },
    {
      "cell_type": "code",
      "execution_count": null,
      "metadata": {
        "id": "5jrncooGuNND"
      },
      "outputs": [],
      "source": [
        "space_time = 1\n",
        "# send the message\n",
        "led.on() #beginning signal\n",
        "sleep(5)\n",
        "for i in range(message.size):\n",
        "  if message[i] == 1:\n",
        "    led.on()\n",
        "  else:\n",
        "    led.off()\n",
        "  sleep(space_time)"
      ]
    }
  ],
  "metadata": {
    "colab": {
      "provenance": []
    },
    "kernelspec": {
      "display_name": "Python 3",
      "name": "python3"
    },
    "language_info": {
      "name": "python"
    }
  },
  "nbformat": 4,
  "nbformat_minor": 0
}
